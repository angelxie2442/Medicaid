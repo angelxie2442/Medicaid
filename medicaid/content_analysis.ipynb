{
 "cells": [
  {
   "cell_type": "markdown",
   "metadata": {},
   "source": [
    "Created on 4/2/2020\n",
    "Author: Yuan-Chi Yang\n",
    "\n",
    "Objective: template for content analysis on political feedback, please feel free to modify and play around"
   ]
  },
  {
   "cell_type": "code",
   "execution_count": 40,
   "metadata": {},
   "outputs": [],
   "source": [
    "import pandas as pd\n",
    "import nltk\n",
    "import re"
   ]
  },
  {
   "cell_type": "markdown",
   "metadata": {},
   "source": [
    "# Importing the data and perform some checks"
   ]
  },
  {
   "cell_type": "markdown",
   "metadata": {},
   "source": [
    "The data is from \"C:\\Users\\yyang60\\PostDoct-Emory\\medicaid-project\\medicaid-classifier\\labeling-data\\whole_dataset\\BERT_20200228\\political-tweets-streaming.csv\"\n",
    "\n",
    "It consists of all the tweets classified as the 'p' class by the best performing classfiers to date."
   ]
  },
  {
   "cell_type": "code",
   "execution_count": 41,
   "metadata": {},
   "outputs": [],
   "source": [
    "df = pd.read_csv('./political-tweets-streaming.csv',header = 0, keep_default_na=False,dtype={'tweet_id':str})"
   ]
  },
  {
   "cell_type": "code",
   "execution_count": 42,
   "metadata": {},
   "outputs": [
    {
     "data": {
      "text/plain": "383969"
     },
     "execution_count": 42,
     "metadata": {},
     "output_type": "execute_result"
    }
   ],
   "source": [
    "len(df)"
   ]
  },
  {
   "cell_type": "code",
   "execution_count": 43,
   "metadata": {},
   "outputs": [
    {
     "data": {
      "text/plain": "Index(['tweet_id', 'unprocessed_text', 'class'], dtype='object')"
     },
     "execution_count": 43,
     "metadata": {},
     "output_type": "execute_result"
    }
   ],
   "source": [
    "df.columns"
   ]
  },
  {
   "cell_type": "markdown",
   "metadata": {},
   "source": [
    "### Check Duplicates\n",
    "No Duplicated"
   ]
  },
  {
   "cell_type": "code",
   "execution_count": 44,
   "metadata": {},
   "outputs": [
    {
     "data": {
      "text/plain": "0"
     },
     "execution_count": 44,
     "metadata": {},
     "output_type": "execute_result"
    }
   ],
   "source": [
    "df.duplicated(subset = ['tweet_id'], keep=False).sum()"
   ]
  },
  {
   "cell_type": "markdown",
   "metadata": {},
   "source": [
    "### Include 'text_remove_stopwords' column"
   ]
  },
  {
   "cell_type": "code",
   "execution_count": 45,
   "metadata": {},
   "outputs": [],
   "source": [
    "def loadStopWords(FILENAME):\n",
    "    stopword_list = []\n",
    "    infile = open(FILENAME)\n",
    "    for line in infile:\n",
    "        stopword_list.append(line.strip())\n",
    "    print(len(stopword_list))\n",
    "    return stopword_list"
   ]
  },
  {
   "cell_type": "code",
   "execution_count": 46,
   "metadata": {},
   "outputs": [],
   "source": [
    "def processing_text_remove_stopwords(tweet_text,stop_words):\n",
    "    tweet_text = re.sub(r'&amp;', \"and\", tweet_text)\n",
    "    tweet_text = re.sub('http[s]?://(?:[a-zA-Z]|[0-9]|[$-_@.&+]|[!*\\(\\),]|(?:%[0-9a-fA-F][0-9a-fA-F]))+', '',\n",
    "                        tweet_text)\n",
    "    #tweet_text = re.sub('(@[A-Za-z0-9\\_]+)', '', tweet_text)\n",
    "    tweet_text = re.sub('(@[\\S]+)', '', tweet_text)#added Angel\n",
    "    ####the following section separate words following each hashtag\n",
    "    list_hashtag1=re.findall('(#[\\S]+)',tweet_text)\n",
    "    list_hashtag2=[]\n",
    "    for p in list_hashtag1:\n",
    "        p=re.sub('(#)','',p)#string\n",
    "        p1=re.findall('([A-Z]{2,})',p)#list\n",
    "        for p2 in p1:\n",
    "            list_hashtag2.append(p2)\n",
    "        p=re.sub('([A-Z]{2,})',' ',p)\n",
    "        p1=re.findall('([A-Z][a-z]{1,})',p)\n",
    "        for p2 in p1:\n",
    "            list_hashtag2.append(p2)\n",
    "        p=re.sub('([A-Z][a-z]{1,})',' ',p)\n",
    "        p=re.sub('([A-Z])',' ',p)\n",
    "        p=re.sub('([^A-Za-z])',' ',p)\n",
    "        p1=p.split()\n",
    "        for p2 in p1:\n",
    "            list_hashtag2.append(p2)\n",
    "    tweet_text=re.sub('(#[\\S]+)','',tweet_text)\n",
    "    \n",
    "    tweet_text = re.sub(\"[^a-zA-Z_-]\", \" \", tweet_text)\n",
    "    tweet_text = tweet_text.lower()\n",
    "    tweet_text = re.sub(r'\\s{2,}', \" \", tweet_text)\n",
    "    list_hashtag= [h for h in list_hashtag2 if (not h in stop_words and len(h)>3)]\n",
    "    tweet_text = [t for t in tweet_text.split() if (not t in stop_words and len(t)>3)]\n",
    "    tweet_text.extend(list_hashtag)\n",
    "    return ' '.join(tweet_text)"
   ]
  },
  {
   "cell_type": "code",
   "execution_count": 47,
   "metadata": {},
   "outputs": [
    {
     "name": "stdout",
     "output_type": "stream",
     "text": [
      "261\n"
     ]
    }
   ],
   "source": [
    "stopwords = set(loadStopWords('./stopwords.txt'))"
   ]
  },
  {
   "cell_type": "code",
   "execution_count": 48,
   "metadata": {},
   "outputs": [],
   "source": [
    "df['text_remove_stopwords'] = df['unprocessed_text'].apply(lambda x: processing_text_remove_stopwords(x,stopwords))"
   ]
  },
  {
   "cell_type": "markdown",
   "metadata": {},
   "source": [
    "## Find the most frequent words in text"
   ]
  },
  {
   "cell_type": "code",
   "execution_count": 49,
   "metadata": {},
   "outputs": [],
   "source": [
    "unigrams = ' '.join(df['text_remove_stopwords'].to_list()).split()\n",
    "bigrams = []\n",
    "for tweet in df['text_remove_stopwords'].to_list():\n",
    "    bigrams += list(nltk.bigrams(tweet.split()))\n",
    "    \n",
    "trigrams = []\n",
    "for tweet in df['text_remove_stopwords'].to_list():\n",
    "    trigrams += list(nltk.trigrams(tweet.split()))\n",
    "uni_fd = nltk.FreqDist(unigrams)\n",
    "big_fd = nltk.FreqDist(bigrams)\n",
    "trig_fd = nltk.FreqDist(trigrams)\n"
   ]
  },
  {
   "cell_type": "code",
   "execution_count": 70,
   "metadata": {},
   "outputs": [
    {
     "name": "stdout",
     "output_type": "stream",
     "text": [
      "unigrams:\n",
      "\n",
      "people 66954\n",
      "social 64162\n",
      "security 59281\n",
      "care 51287\n",
      "health 41356\n",
      "would 40135\n",
      "insurance 39921\n",
      "trump 39077\n",
      "healthcare 38641\n",
      "expansion 38198\n",
      "like 35822\n",
      "state 29422\n",
      "cuts 28059\n",
      "need 26424\n",
      "want 26282\n",
      "--------------------------------------------------------\n",
      "\n",
      "bigrams:\n",
      "\n",
      "social security 56353\n",
      "food stamps 18234\n",
      "health care 16445\n",
      "health insurance 8658\n",
      "private insurance 5960\n",
      "cuts social 4551\n",
      "take away 4155\n",
      "work requirements 3638\n",
      "middle class 3531\n",
      "trump budget 3182\n",
      "Medicare Medicaid 3103\n",
      "mental health 3037\n",
      "budget cuts 3009\n",
      "pre-existing conditions 2964\n",
      "insurance companies 2753\n",
      "--------------------------------------------------------\n",
      "\n",
      "trigrams:\n",
      "\n",
      "cuts social security 4383\n",
      "cutting social security 1805\n",
      "welfare food stamps 1738\n",
      "billion social security 1732\n",
      "like social security 1466\n",
      "trillion billion billion 1304\n",
      "billion billion social 1173\n",
      "social security cuts 1139\n",
      "social security food 1107\n",
      "social security public 1086\n",
      "food stamps housing 1059\n",
      "social security budget 1031\n",
      "security food stamps 965\n",
      "want social security 839\n",
      "away social security 820\n"
     ]
    }
   ],
   "source": [
    "num = 15\n",
    "print('unigrams:\\n')\n",
    "fd = uni_fd\n",
    "fd_list = [(x,fd[x]) for x in fd]\n",
    "fd_list.sort(key = lambda x: x[1], reverse = True)\n",
    "for i in range(0,num):\n",
    "    print(fd_list[i][0], fd_list[i][1])\n",
    "    \n",
    "print('--------------------------------------------------------\\n')\n",
    "    \n",
    "print('bigrams:\\n')\n",
    "fd = big_fd\n",
    "fd_list = [(x,fd[x]) for x in fd]\n",
    "fd_list.sort(key = lambda x: x[1], reverse = True)\n",
    "for i in range(0,num):\n",
    "    x, y= fd_list[i][0]\n",
    "    term = x + ' '+ y\n",
    "    print(term, fd_list[i][1])\n",
    "\n",
    "print('--------------------------------------------------------\\n')\n",
    "print('trigrams:\\n')\n",
    "\n",
    "fd = trig_fd\n",
    "fd_list = [(x,fd[x]) for x in fd]\n",
    "fd_list.sort(key = lambda x: x[1], reverse = True)\n",
    "for i in range(0,num):\n",
    "    x, y, z= fd_list[i][0]\n",
    "    term = x + ' '+ y + ' ' + z\n",
    "    print(term, fd_list[i][1])"
   ]
  },
  {
   "cell_type": "markdown",
   "metadata": {},
   "source": [
    "## Finding the interesting terms"
   ]
  },
  {
   "cell_type": "code",
   "execution_count": 71,
   "metadata": {},
   "outputs": [],
   "source": [
    "def highfreqword(text,term):\n",
    "    pattern = rf'(^|[^a-zA-Z]){term}([^a-zA-Z]|$)' #rf is for using a variable inside\n",
    "    #pattern = rf'{term}'\n",
    "    if(re.search(pattern,text)!=None):\n",
    "        return 1\n",
    "    else:\n",
    "        return 0"
   ]
  },
  {
   "cell_type": "code",
   "execution_count": 113,
   "metadata": {
    "scrolled": false
   },
   "outputs": [],
   "source": [
    "bigrams_ls=['social security','healthcare','insurance','food stamps','health care','health insurance','private insurance','cuts social','take away','work requirements','middle class','trump budget','pre-existing conditions','insurance companies','expansion','budget cuts']\n",
    "for i in range(16):\n",
    "    coln=bigrams_ls[i]\n",
    "    df[coln] = df['text_remove_stopwords'].apply(lambda x:highfreqword(x,coln))"
   ]
  },
  {
   "cell_type": "code",
   "execution_count": 114,
   "outputs": [
    {
     "data": {
      "text/plain": "54964"
     },
     "execution_count": 114,
     "metadata": {},
     "output_type": "execute_result"
    }
   ],
   "source": [
    "df.sample(n=5)\n",
    "df_temp=df[df['social security'].apply(lambda x:x==1)]\n",
    "len(df_temp)"
   ],
   "metadata": {
    "collapsed": false,
    "pycharm": {
     "name": "#%%\n"
    }
   }
  },
  {
   "cell_type": "code",
   "execution_count": 115,
   "outputs": [
    {
     "name": "stderr",
     "output_type": "stream",
     "text": [
      "<ipython-input-115-a352872f6969>:1: UserWarning: Boolean Series key will be reindexed to match DataFrame index.\n",
      "  df_temp1=df_temp[df['pre-existing conditions'].apply(lambda x:x==1)]\n"
     ]
    },
    {
     "data": {
      "text/plain": "506"
     },
     "execution_count": 115,
     "metadata": {},
     "output_type": "execute_result"
    }
   ],
   "source": [
    "df_temp1=df_temp[df['pre-existing conditions'].apply(lambda x:x==1)]\n",
    "len(df_temp1)"
   ],
   "metadata": {
    "collapsed": false,
    "pycharm": {
     "name": "#%%\n"
    }
   }
  },
  {
   "cell_type": "code",
   "execution_count": 54,
   "outputs": [],
   "source": [
    "#term2 = 'trump budget'\n",
    "#pattern = rf'(^|[^a-zA-Z]){term2}([^a-zA-Z]|$)' #rf is for using a variable inside\n",
    "#df_temp2 = df[df['text_remove_stopwords'].apply(lambda x: re.search(pattern,x)!=None)]\n",
    "#print('# of tweets:',len(df_temp2))\n"
   ],
   "metadata": {
    "collapsed": false,
    "pycharm": {
     "name": "#%%\n"
    }
   }
  },
  {
   "cell_type": "code",
   "execution_count": 55,
   "outputs": [
    {
     "name": "stdout",
     "output_type": "stream",
     "text": [
      "# of duplicated tweets: 0\n"
     ]
    }
   ],
   "source": [
    "#df_temp12 =df_temp1.append(df_temp2)\n",
    "#print('# of duplicated tweets:',df_temp12.duplicated(subset = ['tweet_id'], keep=False).sum())"
   ],
   "metadata": {
    "collapsed": false,
    "pycharm": {
     "name": "#%%\n"
    }
   }
  },
  {
   "cell_type": "code",
   "execution_count": 116,
   "outputs": [
    {
     "name": "stdout",
     "output_type": "stream",
     "text": [
      "@lakesideSMM @Prise88 @ByronYork you do realize they are going to dismantle aca, cut medicare, medicaid and #Moscowmitch wants to take away social security altogether that we paid in that is our money not the gov't money.  and they will do away with pre-existing conditions.  130 million americans can't afford it \n",
      "\n",
      "\n",
      "---------------------------------------------------------------------------------\n",
      "@VP @realDonaldTrump @IngrahamAngle LIES LIES LIES!!!\n",
      "\n",
      "Donald Trump wants to take healthcare away from millions!  Protections off pre-existing conditions, gut Medicare, Medicaid and Social Security!! \n",
      "\n",
      "Top Diplomat Testifies: THERE WAS A QUID PRO QUO!!!! \n",
      "\n",
      "\n",
      "---------------------------------------------------------------------------------\n",
      "@mommamia1217 6 months to primaries impeachment is a nonissue now.. focus on getting the message out about cuts to Medicaid and Medicare . Pre-existing conditions , social security. The Dems in power have chosen to lets us down. Absolutely no voice or message. \n",
      "\n",
      "\n",
      "---------------------------------------------------------------------------------\n",
      "TRUMP'S  $4.7 TRILLION BUDGET!!!\n",
      "*CUTS TO MEDICARE \n",
      "*CUTS TO SOCIAL SECURITY\n",
      "*DEEP CUTS TO MEDICAID\n",
      "*END TO MEDICAID \n",
      "  EXPANSION\n",
      "\n",
      "ALLOWS INSURANCE  COMPANIES TO DESCRIMINATE AGAINST THOSE WITH PRE-EXISTING CONDITIONS. \n",
      "\n",
      "\n",
      "---------------------------------------------------------------------------------\n",
      "@kylegriffin1 @SpeakerRyan you constantly fought to end coverage for pre-existing conditions, ending social security, medicaid, welfare. \n",
      "\n",
      "You have NO BUSINESS lecturing anyone on morals, you self-righteous ass; what office are you trying to run for you self-serving bastard? #PaulRyan \n",
      "\n",
      "\n",
      "---------------------------------------------------------------------------------\n",
      "@senatemajldr The Rus Compromised Sen &amp; @foxandfriends Propaganda machine crank it up for #MAGA. Based on these idiots:\n",
      "Becoming a State is Socialism\n",
      "Social Security Socialism\n",
      "Medicare Socialism\n",
      "Medicaid Socialism\n",
      "Healthcare Socialism\n",
      "Pre-Existing Conditions Socialism\n",
      "Immigration Socialism \n",
      "\n",
      "\n",
      "---------------------------------------------------------------------------------\n",
      "@JWEthernet @RashidaTlaib ACA helps working class Americans, as does the MedicAid expansions. CHIP program, overtime pay, anti discrimination, coverage for pre-existing conditions, unemployment insurance, social security, Medicare, GI bill, civil rights, etc.\n",
      "Ask what a Republican has ever done? Nada... https://t.co/FmAM6TsCAT \n",
      "\n",
      "\n",
      "---------------------------------------------------------------------------------\n",
      "To the *forgotten man* #MAGA your guy is suing to get rid of pre-existing conditions coverage. Cutting Social Security, Medicare &amp; Medicaid. Did you do your taxes yet? Hiw about jobs in Ohio and Kansas? Promises made Promises broken #FoxNews #FoxAndFriends #LouDobbs #Hannity \n",
      "\n",
      "\n",
      "---------------------------------------------------------------------------------\n",
      "@bayareahausfrau poor guy-\n",
      "doesn't realize the indigent always had Medicaid-\n",
      "then this marvy guy stole 738 Billion from social security-(geezers)- to fund more medicaid-\n",
      "mandated everybody buy insurance- which tripled the price for those with pre-existing conditions- and left the workers out- \n",
      "\n",
      "\n",
      "---------------------------------------------------------------------------------\n",
      "@GOP GOP BUDGET PLAN:\n",
      "Destroy ACA Healthcare\n",
      "Destroy Public Education\n",
      "Destroy Social Security\n",
      "Destroy Medicare\n",
      "Destroy Medicaid\n",
      "Have NO Public Healthcare Plan\n",
      "No Infrastructure\n",
      "No Jobs Training \n",
      "They're Still Suing to take coverage for pre-existing conditions\n",
      "REPUBS HATE POOR PEOPLE! \n",
      "\n",
      "\n",
      "---------------------------------------------------------------------------------\n",
      "@RepAdamSchiff Are you using the ACA to obtain Health Insurance &amp; Health Care? If so, Donald Trump &amp; the Republicans are trying to take away your Insurance! After they Destroy the ACA &amp; your Protection for Pre-Existing Conditions, they will Destroy Social Security, Medicare &amp; Medicaid! ENOUGH!! https://t.co/sNyZsOdfu9 \n",
      "\n",
      "\n",
      "---------------------------------------------------------------------------------\n",
      "@realDonaldTrump You’ve been lying for years about protecting people with pre-existing conditions, Medicare, Medicaid and Social Security. Can we expect your resignation any time soon? \n",
      "\n",
      "\n",
      "---------------------------------------------------------------------------------\n",
      "@508gloryFelix Most of em? Never — unless their Social Security and/or Medicare \n",
      "and/or Medicaid and/or SNAP disappear. Or they lose insurance for their Pre-Existing Conditions. \n",
      "(MAGA Creed: “Nothing matters unless it happens to ME.”) \n",
      "\n",
      "\n",
      "---------------------------------------------------------------------------------\n",
      "@senatemajldr STOP LYING #MoscowMitch THE REPUBLICANS ARE TRYING TO GET RID OF PRE-EXISTING CONDITIONS!!! YOU ARE ALSO TRYING TO TAKE AWAY FROM SOCIAL SECURITY AND MEDICAID!!! YOU ARE A DISGRACE TO AMERICA!! WHAT ABOUT THE 500+ BILLS THAT ARE SETTING ON YOUR FREAKING DESK!! \n",
      "\n",
      "\n",
      "---------------------------------------------------------------------------------\n",
      "@realDonaldTrump HAHAHAHAHAHAH!!! Lord, this is hilarious!!!\n",
      "Your campaign slogan for 2020: I  will take away all of your healthcare, refuse to protect pre-existing conditions and cut your Social Security, Medicaid and Medicare. A sure winner. \n",
      "\n",
      "\n",
      "---------------------------------------------------------------------------------\n",
      "@MeghanMcCain Maybe that's why he's such a miserable bitch! Has no Empathy for pp he's been trying to kick off ACA or pre-existing conditions, or cutting medicaid, kids care, Medicare, social security, need I go on? But u wouldn't understand bc u were born rich. \n",
      "\n",
      "\n",
      "---------------------------------------------------------------------------------\n",
      "@GOP Taking away pre-existing conditions protections?\n",
      "Attacking the ACA resulting in less coverage &amp; higher insurance premiums?\n",
      "Exploding the deficit then going after the safety nets of Social Security, Medicare, &amp; Medicaid?\n",
      "The @GOP offers nothing to the average citizen but tariffs! https://t.co/jQPTxYCG49 \n",
      "\n",
      "\n",
      "---------------------------------------------------------------------------------\n",
      "@senatemajldr Yet the veterans are homeless, plagued by mental &amp; physical illness &amp; injury but can't get care. You want to disqualify ppl with pre-existing conditions from getting insurance. You want to cut Social Security, Medicare, Medicaid, SNAP, poor children's school lunches. You're cruel \n",
      "\n",
      "\n",
      "---------------------------------------------------------------------------------\n",
      "@GOP @GOPLeader PUT COUNTRY FIRST?\n",
      "BY CUTTING MEDICARE?\n",
      "BY CUTTING SOCIAL SECURITY?\n",
      "BY CUTTING MEDICAID?\n",
      "BY CUTTING EDUCATION?\n",
      "BY HAVING NO INFRASTRUCTURE PLAN!\n",
      "BY HAVING NO JOBS PLAN?\n",
      "BY TAKING \"PRE-EXISTING CONDITIONS\" OUT OF INSURANCE COVERAGE!\n",
      " BY HAVING THE HIGHEST DRUG PRICES IN THE WORLD? \n",
      "\n",
      "\n",
      "---------------------------------------------------------------------------------\n",
      "RETWEET! Millions of PEOPLE rely on Medicare Medicaid &amp; Social Security. GOP want to gut the social programs!  CALL: (202) 224-3121 Call your representative, tell them Hands off OUR Medicare, MEDICAID &amp; Social Security &amp; Pre-existing Conditions in our health insurance! 💗 \n",
      "\n",
      "\n",
      "---------------------------------------------------------------------------------\n",
      "@WhiteHouse @POTUS Oh and we are all about to lose our healthcare and protections for pre-existing conditions! Your cutting Medicare,Medicaid and social security, environmental protections and doing nothing about climate change! \n",
      "\n",
      "\n",
      "---------------------------------------------------------------------------------\n",
      "@rcooley123 GOP candidate's def of socialism= killing the ACA, Obamacare; doing away with pre-existing conditions + cutting entitlement programs like Social Security; Medicare, Medicaid +turning the VA healthcare system into a private business enterprise + increase min wage to $15 per hour. \n",
      "\n",
      "\n",
      "---------------------------------------------------------------------------------\n",
      "@SenateGOP You all want to get rid of pre-existing conditions again like when I was young. Now that I'm older and need health care you want to harm me more. You all are eternity messing trying to harm Social Security, Medicare and Medicaid. In your opinion, it's sorry about your luck, die. \n",
      "\n",
      "\n",
      "---------------------------------------------------------------------------------\n",
      "RETWEET! Millions of PEOPLE rely on Medicare Medicaid &amp; Social Security. GOP want to gut the social programs!  CALL: (202) 224-3121 Call your representative, tell them Hands off OUR Medicare, MEDICAID &amp; Social Security &amp; Pre-existing Conditions in our health insurance! 💗 \n",
      "\n",
      "\n",
      "---------------------------------------------------------------------------------\n",
      "@realDonaldTrump You’re taking away healthcare from 30 million Americans, you want pre-existing conditions and age to make a difference in pricing. You want $150 Billion cut from Medicare, $250 Billion from Medicaid and $ Billions from Social Security. YOU LIED TO YOUR BASE in their face. \n",
      "\n",
      "\n",
      "---------------------------------------------------------------------------------\n",
      "@donjefferis214 @grannieof10kids The Dem dinosaurs won’t even use social media to get the Dems message out. Nothing on Social Security, Medicare, Medicaid, Pre-existing conditions, cut to food stamps. The only message that is getting out is impeachment. 🤦🏻‍♂️ \n",
      "\n",
      "\n",
      "---------------------------------------------------------------------------------\n",
      "Democrats should all PROUDLY remind voters that it's because of DEMOCRATS that citizens enjoy the benefits of Social Security, Medicare, Medicaid...oh yeah, and the ACA that protects pre-existing conditions. Republicans constantly trying to gut those protections. \n",
      "\n",
      "\n",
      "---------------------------------------------------------------------------------\n",
      "Wow he is trying to reduce Social Security, Medicare and Medicaid, Takeaway health insurance coverage for pre-existing conditions, all under the guise of “America first.” So in other words, he supports Israel while taking away from Americans. \n",
      "\n",
      "\n",
      "---------------------------------------------------------------------------------\n",
      "You got to look Trump supporters they want to make cuts to Special Olympics Medicaid Medicare Social Security and not be covered for pre-existing conditions. What's your next battle Trump supporters healthcare for only the wealthy and you guys will fight for that too \n",
      "\n",
      "\n",
      "---------------------------------------------------------------------------------\n",
      "34 YEARS OF #MoscowMitch \n",
      "selling us out is enough.\n",
      "He has vowed to gut \n",
      "Social Security, MEDICARE, MEDICAID, VA BENEFITS, SNAP \n",
      "+ end pre-existing conditions coverage protection. He is not working for Kentucky or America.\n",
      "He works for Putin + the Chao family. VOTE @AmyMcGrathKY \n",
      "\n",
      "\n",
      "---------------------------------------------------------------------------------\n"
     ]
    }
   ],
   "source": [
    "num = 30\n",
    "temp = df_temp1.sample(n=num)\n",
    "for i in range(0,num):\n",
    "    print(temp['unprocessed_text'].iloc[i],'\\n\\n')\n",
    "    #print(temp['text_remove_stopwords'].iloc[i],'\\n\\n')\n",
    "    print('---------------------------------------------------------------------------------')"
   ],
   "metadata": {
    "collapsed": false,
    "pycharm": {
     "name": "#%%\n"
    }
   }
  },
  {
   "cell_type": "code",
   "execution_count": 118,
   "metadata": {},
   "outputs": [],
   "source": [
    "temp.to_csv('ss_pec_sample.csv')\n",
    "\n"
   ]
  }
 ],
 "metadata": {
  "kernelspec": {
   "display_name": "Python 3",
   "language": "python",
   "name": "python3"
  },
  "language_info": {
   "codemirror_mode": {
    "name": "ipython",
    "version": 3
   },
   "file_extension": ".py",
   "mimetype": "text/x-python",
   "name": "python",
   "nbconvert_exporter": "python",
   "pygments_lexer": "ipython3",
   "version": "3.7.4"
  }
 },
 "nbformat": 4,
 "nbformat_minor": 2
}